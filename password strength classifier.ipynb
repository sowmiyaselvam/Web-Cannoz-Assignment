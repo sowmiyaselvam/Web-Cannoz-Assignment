{
 "cells": [
  {
   "cell_type": "code",
   "execution_count": null,
   "metadata": {},
   "outputs": [],
   "source": [
    "import pandas as pd\n",
    "import numpy as np\n",
    "import seaborn as sns"
   ]
  },
  {
   "cell_type": "code",
   "execution_count": null,
   "metadata": {},
   "outputs": [],
   "source": [
    "data = pd.read_csv(\"C:/Users/sowmiya/Downloads/data.csv\")"
   ]
  },
  {
   "cell_type": "code",
   "execution_count": null,
   "metadata": {},
   "outputs": [],
   "source": [
    "data.head()"
   ]
  },
  {
   "cell_type": "code",
   "execution_count": null,
   "metadata": {},
   "outputs": [],
   "source": [
    "data[data['password'].isnull()]"
   ]
  },
  {
   "cell_type": "code",
   "execution_count": null,
   "metadata": {},
   "outputs": [],
   "source": [
    "data.dropna(inplace=True)"
   ]
  },
  {
   "cell_type": "code",
   "execution_count": null,
   "metadata": {},
   "outputs": [],
   "source": [
    "from sklearn.utils import shuffle\n",
    "data = shuffle(data)"
   ]
  },
  {
   "cell_type": "code",
   "execution_count": null,
   "metadata": {},
   "outputs": [],
   "source": [
    "data.reset_index(drop=True,inplace=True)\n",
    "y = data['strength']\n",
    "y.head()"
   ]
  },
  {
   "cell_type": "code",
   "execution_count": null,
   "metadata": {},
   "outputs": [],
   "source": [
    "X = data['password']\n",
    "X.head()"
   ]
  },
  {
   "cell_type": "code",
   "execution_count": null,
   "metadata": {},
   "outputs": [],
   "source": [
    "sns.set_style('whitegrid')\n",
    "sns.countplot(x='strength',data=data)"
   ]
  },
  {
   "cell_type": "code",
   "execution_count": null,
   "metadata": {},
   "outputs": [],
   "source": [
    "def words_to_char(inputs):\n",
    "    characters=[]\n",
    "    for i in inputs:\n",
    "        characters.append(i)\n",
    "    return characters"
   ]
  },
  {
   "cell_type": "code",
   "execution_count": null,
   "metadata": {},
   "outputs": [],
   "source": [
    "from sklearn.feature_extraction.text import TfidfVectorizer\n",
    "vectorizer=TfidfVectorizer(tokenizer=words_to_char)\n",
    "X=vectorizer.fit_transform(X)\n",
    "X.shape"
   ]
  },
  {
   "cell_type": "code",
   "execution_count": null,
   "metadata": {},
   "outputs": [],
   "source": [
    "X.todense()"
   ]
  },
  {
   "cell_type": "code",
   "execution_count": null,
   "metadata": {},
   "outputs": [],
   "source": [
    "vectorizer.vocabulary_"
   ]
  },
  {
   "cell_type": "code",
   "execution_count": null,
   "metadata": {},
   "outputs": [],
   "source": [
    "data.iloc[0][0]"
   ]
  },
  {
   "cell_type": "code",
   "execution_count": null,
   "metadata": {},
   "outputs": [],
   "source": [
    "feature_names = vectorizer.get_feature_names()\n",
    " \n",
    "#get tfidf vector for first document\n",
    "first_document_vector=X[0]\n",
    " \n",
    "#print the scores\n",
    "df = pd.DataFrame(first_document_vector.T.todense(), index=feature_names, columns=[\"tfidf\"])\n",
    "df.sort_values(by=[\"tfidf\"],ascending=False)"
   ]
  },
  {
   "cell_type": "code",
   "execution_count": null,
   "metadata": {},
   "outputs": [],
   "source": [
    "from sklearn.linear_model import LogisticRegression\n",
    "from sklearn.model_selection import train_test_split\n",
    "X_train, X_test, y_train, y_test = train_test_split(X, y, test_size=0.20, random_state=42) \n",
    "log_class=LogisticRegression(penalty='l2',multi_class='ovr')\n",
    "log_class.fit(X_train,y_train)"
   ]
  },
  {
   "cell_type": "code",
   "execution_count": null,
   "metadata": {},
   "outputs": [],
   "source": [
    "print(log_class.score(X_test,y_test))"
   ]
  },
  {
   "cell_type": "code",
   "execution_count": null,
   "metadata": {},
   "outputs": [],
   "source": [
    "clf = LogisticRegression(random_state=0, multi_class='multinomial', solver='saga')\n",
    "clf.fit(X_train, y_train) #training\n",
    "print(clf.score(X_test, y_test))"
   ]
  },
  {
   "cell_type": "code",
   "execution_count": null,
   "metadata": {},
   "outputs": [],
   "source": [
    "X_predict=np.array([\"2DFSabc#d$$$$\"])\n",
    "X_predict=vectorizer.transform(X_predict)\n",
    "y_pred=log_class.predict(X_predict)\n",
    "print(y_pred)"
   ]
  },
  {
   "cell_type": "code",
   "execution_count": null,
   "metadata": {},
   "outputs": [],
   "source": [
    "from tkinter import *\n",
    "import hashlib\n",
    "import os\n",
    "import re\n",
    "\n",
    "myGui = Tk()\n",
    "myGui.geometry('500x400+700+250')\n",
    "myGui.title('Password Generator')\n",
    "guiFont = font = dict(family='Courier New, monospaced', size=18, color='#7f7f7f')"
   ]
  },
  {
   "cell_type": "code",
   "execution_count": null,
   "metadata": {},
   "outputs": [],
   "source": [
    "eLabel = Label(myGui, text=\"Please Enter you Password:   \", font=guiFont)\n",
    "eLabel.grid(row=0, column=0)\n",
    "ePassword = Entry(myGui, show=\"*\")\n",
    "ePassword.grid(row=0, column=1)"
   ]
  },
  {
   "cell_type": "code",
   "execution_count": null,
   "metadata": {},
   "outputs": [],
   "source": [
    "def checkPassword():\n",
    "    strength = ['Password can not be Blank', 'Very Weak', 'Weak', 'Medium', 'Strong', 'Very Strong']\n",
    "    score = 1\n",
    "    password = ePassword.get()\n",
    "\n",
    "    if len(password) < 1:\n",
    "        return strength[0]\n",
    "\n",
    "    if len(password) < 4:\n",
    "        return strength[1]\n",
    "\n",
    "    if len(password) >= 8:\n",
    "        score += 1\n",
    "\n",
    "    if re.search(\"[0-9]\", password):\n",
    "        score += 1\n",
    "\n",
    "    if re.search(\"[a-z]\", password) and re.search(\"[A-Z]\", password):\n",
    "        score += 1\n",
    "\n",
    "    if re.search(\".\", password):\n",
    "        score += 1\n",
    "\n",
    "    passwordStrength.set(strength[score])\n",
    "\n",
    "passwordStrength = StringVar()\n",
    "checkStrBtn = Button(myGui, text=\"Check Strength\", command=checkPassword, height=2, width=25, font=guiFont)\n",
    "checkStrBtn.grid(row=2, column=0)\n",
    "checkStrLab = Label(myGui, textvariable=passwordStrength)\n",
    "checkStrLab.grid(row=2, column=1, sticky=W)"
   ]
  },
  {
   "cell_type": "code",
   "execution_count": null,
   "metadata": {},
   "outputs": [],
   "source": [
    "def passwordHash():\n",
    "    hash_obj1 = hashlib.md5()\n",
    "    pwmd5 = ePassword.get().encode('utf-8')\n",
    "    hash_obj1.update(pwmd5)\n",
    "    md5pw.set(hash_obj1.hexdigest())\n",
    "\n",
    "md5pw = StringVar()\n",
    "hashBtn = Button(myGui, text=\"Generate Hash\", command=passwordHash, height=2, width=25, font=guiFont)\n",
    "hashBtn.grid(row=3, column=0)\n",
    "hashLbl = Label(myGui, textvariable=md5pw)\n",
    "hashLbl.grid(row=3, column=1, sticky=W)"
   ]
  },
  {
   "cell_type": "code",
   "execution_count": null,
   "metadata": {},
   "outputs": [],
   "source": [
    "def hashlog():\n",
    "    loghash = md5pw.get()\n",
    "\n",
    "    if os.path.isfile('password_hash_log.txt'):\n",
    "        obj1 = open('password_hash_log.txt', 'a')\n",
    "        obj1.write(loghash)\n",
    "        obj1.write(\"\\n\")\n",
    "        obj1.close()\n",
    "\n",
    "    else:\n",
    "        obj2 = open('password_hash_log.txt', 'w')\n",
    "        obj2.write(loghash)\n",
    "        obj2.write(\"\\n\")\n",
    "        obj2.close()\n",
    "\n",
    "btnLog = Button(myGui, text=\"Log Hash\", command=hashlog, height=2, width=25, font=guiFont)\n",
    "btnLog.grid(row=4, column=0)\n",
    "\n",
    "lblVerify = Label(myGui, text=\"Enter Password to Verify:   \", font=guiFont)\n",
    "lblVerify.grid(row=5, column=0, sticky=W)\n",
    "\n",
    "myGui.mainloop()"
   ]
  },
  {
   "cell_type": "code",
   "execution_count": null,
   "metadata": {},
   "outputs": [],
   "source": []
  }
 ],
 "metadata": {
  "kernelspec": {
   "display_name": "Python 3",
   "language": "python",
   "name": "python3"
  },
  "language_info": {
   "codemirror_mode": {
    "name": "ipython",
    "version": 3
   },
   "file_extension": ".py",
   "mimetype": "text/x-python",
   "name": "python",
   "nbconvert_exporter": "python",
   "pygments_lexer": "ipython3",
   "version": "3.7.3"
  }
 },
 "nbformat": 4,
 "nbformat_minor": 2
}
